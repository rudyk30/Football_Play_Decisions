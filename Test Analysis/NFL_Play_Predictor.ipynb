{
 "cells": [
  {
   "cell_type": "code",
   "execution_count": null,
   "metadata": {},
   "outputs": [],
   "source": [
    "import warnings\n",
    "warnings.filterwarnings('ignore')\n",
    "\n",
    "import numpy as np \n",
    "import pandas as pd\n",
    "from pathlib import Path\n",
    "from collections import Counter\n",
    "from sklearn.linear_model import LogisticRegression\n",
    "from sklearn.metrics import balanced_accuracy_score\n",
    "from sklearn.metrics import confusion_matrix\n",
    "from sklearn.model_selection import train_test_split\n",
    "from imblearn.metrics import classification_report_imbalanced\n",
    "from imblearn.ensemble import BalancedRandomForestClassifier\n",
    "from imblearn.ensemble import EasyEnsembleClassifier\n",
    "from imblearn.over_sampling import RandomOverSampler\n",
    "from imblearn.over_sampling import SMOTE\n",
    "from imblearn.under_sampling import ClusterCentroids\n",
    "from imblearn.combine import SMOTEENN"
   ]
  },
  {
   "cell_type": "code",
   "execution_count": null,
   "metadata": {},
   "outputs": [],
   "source": [
    "fp = Path('Resources/clean_nfl_data.csv')\n",
    "\n",
    "df_2 = pd.read_csv(fp)\n",
    "\n",
    "df_2 = pd.DataFrame(df_2)\n",
    "\n",
    "df_2"
   ]
  },
  {
   "cell_type": "code",
   "execution_count": null,
   "metadata": {},
   "outputs": [],
   "source": [
    "df_2['play_type'] = df_2['play_type'].astype(str).str.replace('run' , '1')\n",
    "df_2['play_type'] = df_2['play_type'].astype(str).str.replace('pass' , '0')\n",
    "df_2['play_type'] = df_2['play_type'].astype('float')\n",
    "df_2"
   ]
  },
  {
   "cell_type": "code",
   "execution_count": null,
   "metadata": {},
   "outputs": [],
   "source": [
    "\n",
    "print(df_2.columns.tolist())\n"
   ]
  },
  {
   "cell_type": "code",
   "execution_count": null,
   "metadata": {},
   "outputs": [],
   "source": [
    "df_2 = df_2[['home_team' , 'away_team' , 'posteam' , 'down' , 'ydstogo' , 'play_type']].convert_dtypes()\n"
   ]
  },
  {
   "cell_type": "code",
   "execution_count": null,
   "metadata": {},
   "outputs": [],
   "source": [
    "df_2 = df_2[df_2.down != 0 ]"
   ]
  },
  {
   "cell_type": "code",
   "execution_count": null,
   "metadata": {},
   "outputs": [],
   "source": [
    "df_2['down'].isnull().sum()"
   ]
  },
  {
   "cell_type": "code",
   "execution_count": null,
   "metadata": {},
   "outputs": [],
   "source": [
    "\n",
    "df_2 = df_2[['down' , 'play_type' , 'ydstogo']].convert_dtypes()\n",
    "df_2"
   ]
  },
  {
   "cell_type": "code",
   "execution_count": null,
   "metadata": {},
   "outputs": [],
   "source": [
    "df_2 = df_2.dropna(axis = 'columns' , how='any')\n",
    "\n",
    "df_2 = df_2.dropna()\n",
    "\n",
    "df_2\n"
   ]
  },
  {
   "cell_type": "code",
   "execution_count": null,
   "metadata": {},
   "outputs": [],
   "source": [
    "x_2 = {'down_1': '1' , 'down_2': '2' , 'down_3': '3' , 'down_4': '4'}\n",
    "df_2 = df_2.replace(x_2)\n"
   ]
  },
  {
   "cell_type": "code",
   "execution_count": null,
   "metadata": {},
   "outputs": [],
   "source": [
    "\n",
    "df_2.reset_index(inplace=True, drop=True)\n",
    "\n",
    "df_2.head(10)\n"
   ]
  },
  {
   "cell_type": "code",
   "execution_count": null,
   "metadata": {},
   "outputs": [],
   "source": [
    "\n",
    "X_2 = df_2.drop('play_type' , axis=1)\n",
    "\n",
    "X_2 = pd.get_dummies(X_2)\n",
    "\n",
    "# Create our target\n",
    "y_2 = df_2['play_type'].astype('int')"
   ]
  },
  {
   "cell_type": "code",
   "execution_count": null,
   "metadata": {},
   "outputs": [],
   "source": [
    "X_2.describe()"
   ]
  },
  {
   "cell_type": "code",
   "execution_count": null,
   "metadata": {},
   "outputs": [],
   "source": [
    "y_2.value_counts()\n"
   ]
  },
  {
   "cell_type": "code",
   "execution_count": null,
   "metadata": {},
   "outputs": [],
   "source": [
    "X_2_train, X_2_test, y_2_train, y_2_test = train_test_split(X_2, y_2, random_state=1)\n",
    "X_2_train.shape"
   ]
  },
  {
   "cell_type": "code",
   "execution_count": null,
   "metadata": {},
   "outputs": [],
   "source": [
    "brfc = BalancedRandomForestClassifier(n_estimators=100, random_state=1)\n",
    "brfc.fit(X_2_train, y_2_train)\n",
    "y_2_pred = brfc.predict(X_2_test)"
   ]
  },
  {
   "cell_type": "code",
   "execution_count": null,
   "metadata": {},
   "outputs": [],
   "source": [
    "y_2_pred = brfc.predict(X_2_test)\n",
    "\n",
    "balanced_accuracy_score(y_2_test , y_2_pred)"
   ]
  },
  {
   "cell_type": "code",
   "execution_count": null,
   "metadata": {},
   "outputs": [],
   "source": [
    "balanced_accuracy_score(y_2_test , y_2_pred)\n",
    "confusion_matrix(y_2_test, y_2_pred)\n",
    "print(classification_report_imbalanced(y_2_test, y_2_pred))\n"
   ]
  },
  {
   "cell_type": "code",
   "execution_count": null,
   "metadata": {},
   "outputs": [],
   "source": [
    "results_2 = pd.DataFrame({\"Prediction\": y_2_pred, \"Actual\": y_2_test}).reset_index(drop=True)\n",
    "results_2.head(20)"
   ]
  },
  {
   "cell_type": "code",
   "execution_count": null,
   "metadata": {},
   "outputs": [],
   "source": [
    "eec = EasyEnsembleClassifier(n_estimators=100 , random_state=1)\n",
    "eec = eec.fit(X_2_train , y_2_train)\n",
    "y_2_pred = eec.predict(X_2_test)\n"
   ]
  },
  {
   "cell_type": "code",
   "execution_count": null,
   "metadata": {},
   "outputs": [],
   "source": [
    "balanced_accuracy_score(y_2_test , y_2_pred)\n"
   ]
  },
  {
   "cell_type": "code",
   "execution_count": null,
   "metadata": {},
   "outputs": [],
   "source": [
    "confusion_matrix(y_2_test , y_2_pred)\n",
    "print(classification_report_imbalanced(y_2_test , y_2_pred))\n"
   ]
  },
  {
   "cell_type": "code",
   "execution_count": null,
   "metadata": {},
   "outputs": [],
   "source": [
    "results = pd.DataFrame({\"Prediction\": y_2_pred, \"Actual\": y_2_test}).reset_index(drop=True)\n",
    "results.head(20)"
   ]
  },
  {
   "cell_type": "code",
   "execution_count": null,
   "metadata": {},
   "outputs": [],
   "source": [
    "ros = RandomOverSampler(random_state=1)\n",
    "X_2_resamp, y_2_resamp = ros.fit_resample(X_2_train, y_2_train)\n",
    "Counter(y_2_resamp)"
   ]
  },
  {
   "cell_type": "code",
   "execution_count": null,
   "metadata": {},
   "outputs": [],
   "source": [
    "model = LogisticRegression(solver='lbfgs', random_state=1)\n",
    "model.fit(X_2_resamp, y_2_resamp)"
   ]
  },
  {
   "cell_type": "code",
   "execution_count": null,
   "metadata": {},
   "outputs": [],
   "source": [
    "y_2_pred = model.predict(X_2_test)\n",
    "balanced_accuracy_score(y_2_test, y_2_pred)"
   ]
  },
  {
   "cell_type": "code",
   "execution_count": null,
   "metadata": {},
   "outputs": [],
   "source": [
    "results = pd.DataFrame({\"Prediction\": y_2_pred, \"Actual\": y_2_test}).reset_index(drop=True)\n",
    "results.head(20)"
   ]
  },
  {
   "cell_type": "code",
   "execution_count": null,
   "metadata": {},
   "outputs": [],
   "source": [
    "matrix = confusion_matrix(y_2_test, y_2_pred)\n"
   ]
  },
  {
   "cell_type": "code",
   "execution_count": null,
   "metadata": {},
   "outputs": [],
   "source": [
    "matrix = confusion_matrix(y_2_test, y_2_pred)\n",
    "cm_df = pd.DataFrame(\n",
    "    matrix, index = ['Pass' , 'Run'] , columns=['Actual' , 'Predicted'])\n",
    "cm_df\n",
    "\n",
    "## Need to figure out a better display output. Confusing as it reads right now. Im not sure which is Predicted and Actual. "
   ]
  },
  {
   "cell_type": "code",
   "execution_count": null,
   "metadata": {},
   "outputs": [],
   "source": [
    "print(classification_report_imbalanced(y_2_test, y_2_pred))"
   ]
  },
  {
   "cell_type": "markdown",
   "metadata": {},
   "source": [
    "#### Smote Oversampling "
   ]
  },
  {
   "cell_type": "code",
   "execution_count": null,
   "metadata": {},
   "outputs": [],
   "source": [
    "model = LogisticRegression(solver='lbfgs', random_state=1)\n",
    "model.fit(X_2_resamp, y_2_resamp)"
   ]
  },
  {
   "cell_type": "code",
   "execution_count": null,
   "metadata": {},
   "outputs": [],
   "source": [
    "y_2_pred_s = y_2_pred = model.predict(X_2_test)\n",
    "acc_score_2 = balanced_accuracy_score(y_2_test, y_2_pred_s)\n",
    "acc_score_2"
   ]
  },
  {
   "cell_type": "code",
   "execution_count": null,
   "metadata": {},
   "outputs": [],
   "source": [
    "matrix_sm = confusion_matrix(y_2_test, y_2_pred_s)\n",
    "\n",
    "cm2_df = pd.DataFrame(matrix_sm, index = ['Pass' , 'Run'], columns=['Actual' , 'Predicted'])\n",
    "\n",
    "cm2_df\n"
   ]
  },
  {
   "cell_type": "markdown",
   "metadata": {},
   "source": [
    "#### Undersampling"
   ]
  },
  {
   "cell_type": "code",
   "execution_count": null,
   "metadata": {},
   "outputs": [],
   "source": [
    "cc = ClusterCentroids(random_state=1)\n",
    "X_2_resample3, y_2_resample3 = cc.fit_resample(X_2_train, y_2_train)\n",
    "Counter(y_2_resample3)\n"
   ]
  },
  {
   "cell_type": "code",
   "execution_count": null,
   "metadata": {},
   "outputs": [],
   "source": [
    "model = LogisticRegression(solver='lbfgs', random_state=1)\n",
    "model.fit(X_2_resample3, y_2_resample3)\n",
    "y_2_pred_cc = model.predict(X_2_test)\n"
   ]
  },
  {
   "cell_type": "code",
   "execution_count": null,
   "metadata": {},
   "outputs": [],
   "source": [
    "\n",
    "acc_score3 = balanced_accuracy_score(y_2_test, y_2_pred_cc)\n",
    "acc_score3\n"
   ]
  },
  {
   "cell_type": "code",
   "execution_count": null,
   "metadata": {},
   "outputs": [],
   "source": [
    "matrix_cc = confusion_matrix(y_2_test, y_2_pred_cc)\n"
   ]
  },
  {
   "cell_type": "code",
   "execution_count": null,
   "metadata": {},
   "outputs": [],
   "source": [
    "\n",
    "cm3_df = pd.DataFrame(\n",
    "    matrix_cc, index=[\"Actual Run\", \"Actual Pass\"], columns=[\"Predicted Run\", \"Predicted Pass\"])\n",
    "cm3_df\n",
    "print(classification_report_imbalanced(y_2_test, y_2_pred_cc))\n",
    "#### Combination (Over and Under) Sampling"
   ]
  }
 ],
 "metadata": {
  "kernelspec": {
   "display_name": "Python 3.9.7 ('base')",
   "language": "python",
   "name": "python3"
  },
  "language_info": {
   "codemirror_mode": {
    "name": "ipython",
    "version": 3
   },
   "file_extension": ".py",
   "mimetype": "text/x-python",
   "name": "python",
   "nbconvert_exporter": "python",
   "pygments_lexer": "ipython3",
   "version": "3.9.7"
  },
  "orig_nbformat": 4,
  "vscode": {
   "interpreter": {
    "hash": "96baab7b6ad072afd89ae7686534ee2dbe395e4ea45ab236dac81c9d9a0dbcb0"
   }
  }
 },
 "nbformat": 4,
 "nbformat_minor": 2
}
